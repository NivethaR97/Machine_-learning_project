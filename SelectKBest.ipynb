{
 "cells": [
  {
   "cell_type": "code",
   "execution_count": 1,
   "id": "1007e08c-d438-4b7d-95db-2e08f448d973",
   "metadata": {},
   "outputs": [],
   "source": [
    "import pandas as pd\n",
    "from sklearn.model_selection import train_test_split\n",
    "import numpy as np\n",
    "from sklearn.preprocessing import StandardScaler\n",
    "from sklearn.feature_selection import SelectKBest\n",
    "import pickle\n",
    "from sklearn.feature_selection import chi2"
   ]
  },
  {
   "cell_type": "code",
   "execution_count": 2,
   "id": "f66d8f73-2a86-41df-924c-5f0a4187f3ab",
   "metadata": {},
   "outputs": [],
   "source": [
    "df=pd.read_csv(\"heart_clean_final.csv\")\n",
    "df2=df"
   ]
  },
  {
   "cell_type": "code",
   "execution_count": 3,
   "id": "3fa0ea63-82c9-47fb-9fa3-235b48be450d",
   "metadata": {},
   "outputs": [],
   "source": [
    "indep_X=df2.drop('target',axis=1)\n",
    "dep_Y=df2['target']"
   ]
  },
  {
   "cell_type": "code",
   "execution_count": 7,
   "id": "887691bc-81d1-48cb-a6c6-d0df72a0a80b",
   "metadata": {},
   "outputs": [],
   "source": [
    "def split_scalar(indep_X,dep_Y):\n",
    "    X_train,X_test,y_train,y_test=train_test_split(indep_X,dep_Y,test_size=0.25,random_state=0)\n",
    "    sc=StandardScaler()\n",
    "    X_train=sc.fit_transform(X_train)\n",
    "    X_test=sc.transform(X_test)\n",
    "    return X_train,X_test,y_train,y_test"
   ]
  },
  {
   "cell_type": "code",
   "execution_count": 9,
   "id": "271d1614-f2fc-4f98-818e-0a97ae2d108b",
   "metadata": {},
   "outputs": [],
   "source": [
    "def selectkbest(indep_X,dep_Y,n):\n",
    "    test=SelectKBest(score_func=chi2,k=n)\n",
    "    fit1=test.fit(indep_X,dep_Y)\n",
    "    selectk_features=fit1.transform(indep_X)\n",
    "    selected_feature_names = indep_X.columns[fit1.get_support()]\n",
    "    print(\"Selected features:\", list(selected_feature_names))\n",
    "    return selectk_features,selected_feature_names"
   ]
  },
  {
   "cell_type": "code",
   "execution_count": 11,
   "id": "42c22ff5-14bb-42eb-9c8f-b0532dcc211c",
   "metadata": {},
   "outputs": [],
   "source": [
    "def cm_prediction(classifier,X_test,y_test):\n",
    "    y_pred=classifier.predict(X_test)\n",
    "    from sklearn.metrics import confusion_matrix\n",
    "    cm=confusion_matrix(y_test,y_pred)\n",
    "    from sklearn.metrics import accuracy_score\n",
    "    from sklearn.metrics import classification_report\n",
    "    Accuracy=accuracy_score(y_test,y_pred)\n",
    "    report=classification_report(y_test,y_pred)\n",
    "    return Accuracy,report,cm"
   ]
  },
  {
   "cell_type": "code",
   "execution_count": 13,
   "id": "a63f5dff-ae25-4b57-b93c-81f0b2dac8b2",
   "metadata": {},
   "outputs": [],
   "source": [
    "def logistic(X_train,y_train,X_test,y_test):\n",
    "    from sklearn.linear_model import LogisticRegression\n",
    "    classifier=LogisticRegression(random_state=0,max_iter=1000)\n",
    "    classifier.fit(X_train,y_train)\n",
    "    Accuracy,report,cm=cm_prediction(classifier,X_test,y_test)\n",
    "    return  classifier,Accuracy,report,cm   "
   ]
  },
  {
   "cell_type": "code",
   "execution_count": 15,
   "id": "7535d8b8-052b-423b-87c4-b1516d065241",
   "metadata": {},
   "outputs": [],
   "source": [
    "def svm_linear(X_train,y_train,X_test,y_test):\n",
    "    from sklearn.svm import SVC\n",
    "    classifier = SVC(kernel = 'linear', random_state = 0)\n",
    "    classifier.fit(X_train, y_train)\n",
    "    Accuracy,report,cm=cm_prediction(classifier,X_test,y_test)\n",
    "    return  classifier,Accuracy,report,cm"
   ]
  },
  {
   "cell_type": "code",
   "execution_count": 17,
   "id": "b1b292c5-7adc-44f2-bf7e-07cfff6b9113",
   "metadata": {},
   "outputs": [],
   "source": [
    "def svm_NL(X_train,y_train,X_test,y_test):\n",
    "    from sklearn.svm import SVC\n",
    "    classifier = SVC(kernel = 'rbf', random_state = 0)\n",
    "    classifier.fit(X_train, y_train)\n",
    "    Accuracy,report,cm=cm_prediction(classifier,X_test,y_test)\n",
    "    return  classifier,Accuracy,report,cm"
   ]
  },
  {
   "cell_type": "code",
   "execution_count": 19,
   "id": "88586394-c103-469e-9372-9b6ac9340652",
   "metadata": {},
   "outputs": [],
   "source": [
    "def Navie(X_train,y_train,X_test,y_test):\n",
    "    from sklearn.naive_bayes import GaussianNB\n",
    "    classifier = GaussianNB()\n",
    "    classifier.fit(X_train, y_train)\n",
    "    Accuracy,report,cm=cm_prediction(classifier,X_test,y_test)\n",
    "    return classifier,Accuracy,report,cm "
   ]
  },
  {
   "cell_type": "code",
   "execution_count": 21,
   "id": "bdd2bbe6-abfd-43da-b027-fb70dd17b843",
   "metadata": {},
   "outputs": [],
   "source": [
    "def knn(X_train,y_train,X_test,y_test):\n",
    "    from sklearn.neighbors import KNeighborsClassifier\n",
    "    classifier = KNeighborsClassifier(n_neighbors = 5, metric = 'minkowski', p = 2)\n",
    "    classifier.fit(X_train, y_train)\n",
    "    Accuracy,report,cm=cm_prediction(classifier,X_test,y_test)\n",
    "    return classifier,Accuracy,report,cm"
   ]
  },
  {
   "cell_type": "code",
   "execution_count": 23,
   "id": "b5aacd5e-334d-483f-a8d6-745876488310",
   "metadata": {},
   "outputs": [],
   "source": [
    "def Decision(X_train,y_train,X_test,y_test):\n",
    "    from sklearn.tree import DecisionTreeClassifier\n",
    "    classifier = DecisionTreeClassifier(criterion = 'entropy', random_state = 0)\n",
    "    classifier.fit(X_train, y_train)\n",
    "    Accuracy,report,cm=cm_prediction(classifier,X_test,y_test)\n",
    "    return classifier,Accuracy,report,cm     "
   ]
  },
  {
   "cell_type": "code",
   "execution_count": 25,
   "id": "cb51d945-5aa6-4a04-abfd-84a578cb5728",
   "metadata": {},
   "outputs": [],
   "source": [
    "def random(X_train,y_train,X_test,y_test):\n",
    "    from sklearn.ensemble import RandomForestClassifier\n",
    "    classifier = RandomForestClassifier(n_estimators = 10, criterion = 'entropy', random_state = 0)\n",
    "    classifier.fit(X_train, y_train)\n",
    "    Accuracy,report,cm=cm_prediction(classifier,X_test,y_test)\n",
    "    return classifier,Accuracy,report,cm"
   ]
  },
  {
   "cell_type": "code",
   "execution_count": 27,
   "id": "b07a2863-6630-4816-9148-06cc6ae77dbc",
   "metadata": {},
   "outputs": [
    {
     "name": "stdout",
     "output_type": "stream",
     "text": [
      "Selected features: ['thalach']\n",
      "Selected features: ['thalach', 'ca']\n",
      "Selected features: ['thalach', 'oldpeak', 'ca']\n",
      "Selected features: ['age', 'thalach', 'oldpeak', 'ca']\n"
     ]
    },
    {
     "name": "stderr",
     "output_type": "stream",
     "text": [
      "C:\\Anaconda3\\Lib\\site-packages\\sklearn\\metrics\\_classification.py:1565: UndefinedMetricWarning: Precision is ill-defined and being set to 0.0 in labels with no predicted samples. Use `zero_division` parameter to control this behavior.\n",
      "  _warn_prf(average, modifier, f\"{metric.capitalize()} is\", len(result))\n",
      "C:\\Anaconda3\\Lib\\site-packages\\sklearn\\metrics\\_classification.py:1565: UndefinedMetricWarning: Precision is ill-defined and being set to 0.0 in labels with no predicted samples. Use `zero_division` parameter to control this behavior.\n",
      "  _warn_prf(average, modifier, f\"{metric.capitalize()} is\", len(result))\n",
      "C:\\Anaconda3\\Lib\\site-packages\\sklearn\\metrics\\_classification.py:1565: UndefinedMetricWarning: Precision is ill-defined and being set to 0.0 in labels with no predicted samples. Use `zero_division` parameter to control this behavior.\n",
      "  _warn_prf(average, modifier, f\"{metric.capitalize()} is\", len(result))\n",
      "C:\\Anaconda3\\Lib\\site-packages\\sklearn\\metrics\\_classification.py:1565: UndefinedMetricWarning: Precision is ill-defined and being set to 0.0 in labels with no predicted samples. Use `zero_division` parameter to control this behavior.\n",
      "  _warn_prf(average, modifier, f\"{metric.capitalize()} is\", len(result))\n",
      "C:\\Anaconda3\\Lib\\site-packages\\sklearn\\metrics\\_classification.py:1565: UndefinedMetricWarning: Precision is ill-defined and being set to 0.0 in labels with no predicted samples. Use `zero_division` parameter to control this behavior.\n",
      "  _warn_prf(average, modifier, f\"{metric.capitalize()} is\", len(result))\n",
      "C:\\Anaconda3\\Lib\\site-packages\\sklearn\\metrics\\_classification.py:1565: UndefinedMetricWarning: Precision is ill-defined and being set to 0.0 in labels with no predicted samples. Use `zero_division` parameter to control this behavior.\n",
      "  _warn_prf(average, modifier, f\"{metric.capitalize()} is\", len(result))\n",
      "C:\\Anaconda3\\Lib\\site-packages\\sklearn\\metrics\\_classification.py:1565: UndefinedMetricWarning: Precision is ill-defined and being set to 0.0 in labels with no predicted samples. Use `zero_division` parameter to control this behavior.\n",
      "  _warn_prf(average, modifier, f\"{metric.capitalize()} is\", len(result))\n",
      "C:\\Anaconda3\\Lib\\site-packages\\sklearn\\metrics\\_classification.py:1565: UndefinedMetricWarning: Precision is ill-defined and being set to 0.0 in labels with no predicted samples. Use `zero_division` parameter to control this behavior.\n",
      "  _warn_prf(average, modifier, f\"{metric.capitalize()} is\", len(result))\n",
      "C:\\Anaconda3\\Lib\\site-packages\\sklearn\\metrics\\_classification.py:1565: UndefinedMetricWarning: Precision is ill-defined and being set to 0.0 in labels with no predicted samples. Use `zero_division` parameter to control this behavior.\n",
      "  _warn_prf(average, modifier, f\"{metric.capitalize()} is\", len(result))\n",
      "C:\\Anaconda3\\Lib\\site-packages\\sklearn\\metrics\\_classification.py:1565: UndefinedMetricWarning: Precision is ill-defined and being set to 0.0 in labels with no predicted samples. Use `zero_division` parameter to control this behavior.\n",
      "  _warn_prf(average, modifier, f\"{metric.capitalize()} is\", len(result))\n",
      "C:\\Anaconda3\\Lib\\site-packages\\sklearn\\metrics\\_classification.py:1565: UndefinedMetricWarning: Precision is ill-defined and being set to 0.0 in labels with no predicted samples. Use `zero_division` parameter to control this behavior.\n",
      "  _warn_prf(average, modifier, f\"{metric.capitalize()} is\", len(result))\n",
      "C:\\Anaconda3\\Lib\\site-packages\\sklearn\\metrics\\_classification.py:1565: UndefinedMetricWarning: Precision is ill-defined and being set to 0.0 in labels with no predicted samples. Use `zero_division` parameter to control this behavior.\n",
      "  _warn_prf(average, modifier, f\"{metric.capitalize()} is\", len(result))\n"
     ]
    },
    {
     "name": "stdout",
     "output_type": "stream",
     "text": [
      "Selected features: ['age', 'thalach', 'exang', 'oldpeak', 'ca']\n",
      "Selected features: ['age', 'cp', 'thalach', 'exang', 'oldpeak', 'ca']\n",
      "Selected features: ['age', 'cp', 'chol', 'thalach', 'exang', 'oldpeak', 'ca']\n"
     ]
    },
    {
     "name": "stderr",
     "output_type": "stream",
     "text": [
      "C:\\Anaconda3\\Lib\\site-packages\\sklearn\\metrics\\_classification.py:1565: UndefinedMetricWarning: Precision is ill-defined and being set to 0.0 in labels with no predicted samples. Use `zero_division` parameter to control this behavior.\n",
      "  _warn_prf(average, modifier, f\"{metric.capitalize()} is\", len(result))\n",
      "C:\\Anaconda3\\Lib\\site-packages\\sklearn\\metrics\\_classification.py:1565: UndefinedMetricWarning: Precision is ill-defined and being set to 0.0 in labels with no predicted samples. Use `zero_division` parameter to control this behavior.\n",
      "  _warn_prf(average, modifier, f\"{metric.capitalize()} is\", len(result))\n",
      "C:\\Anaconda3\\Lib\\site-packages\\sklearn\\metrics\\_classification.py:1565: UndefinedMetricWarning: Precision is ill-defined and being set to 0.0 in labels with no predicted samples. Use `zero_division` parameter to control this behavior.\n",
      "  _warn_prf(average, modifier, f\"{metric.capitalize()} is\", len(result))\n",
      "C:\\Anaconda3\\Lib\\site-packages\\sklearn\\metrics\\_classification.py:1565: UndefinedMetricWarning: Precision is ill-defined and being set to 0.0 in labels with no predicted samples. Use `zero_division` parameter to control this behavior.\n",
      "  _warn_prf(average, modifier, f\"{metric.capitalize()} is\", len(result))\n",
      "C:\\Anaconda3\\Lib\\site-packages\\sklearn\\metrics\\_classification.py:1565: UndefinedMetricWarning: Precision is ill-defined and being set to 0.0 in labels with no predicted samples. Use `zero_division` parameter to control this behavior.\n",
      "  _warn_prf(average, modifier, f\"{metric.capitalize()} is\", len(result))\n",
      "C:\\Anaconda3\\Lib\\site-packages\\sklearn\\metrics\\_classification.py:1565: UndefinedMetricWarning: Precision is ill-defined and being set to 0.0 in labels with no predicted samples. Use `zero_division` parameter to control this behavior.\n",
      "  _warn_prf(average, modifier, f\"{metric.capitalize()} is\", len(result))\n"
     ]
    },
    {
     "name": "stdout",
     "output_type": "stream",
     "text": [
      "Selected features: ['age', 'sex', 'cp', 'chol', 'thalach', 'exang', 'oldpeak', 'ca']\n",
      "Selected features: ['age', 'sex', 'cp', 'chol', 'thalach', 'exang', 'oldpeak', 'slope', 'ca']\n"
     ]
    },
    {
     "name": "stderr",
     "output_type": "stream",
     "text": [
      "C:\\Anaconda3\\Lib\\site-packages\\sklearn\\metrics\\_classification.py:1565: UndefinedMetricWarning: Precision is ill-defined and being set to 0.0 in labels with no predicted samples. Use `zero_division` parameter to control this behavior.\n",
      "  _warn_prf(average, modifier, f\"{metric.capitalize()} is\", len(result))\n",
      "C:\\Anaconda3\\Lib\\site-packages\\sklearn\\metrics\\_classification.py:1565: UndefinedMetricWarning: Precision is ill-defined and being set to 0.0 in labels with no predicted samples. Use `zero_division` parameter to control this behavior.\n",
      "  _warn_prf(average, modifier, f\"{metric.capitalize()} is\", len(result))\n",
      "C:\\Anaconda3\\Lib\\site-packages\\sklearn\\metrics\\_classification.py:1565: UndefinedMetricWarning: Precision is ill-defined and being set to 0.0 in labels with no predicted samples. Use `zero_division` parameter to control this behavior.\n",
      "  _warn_prf(average, modifier, f\"{metric.capitalize()} is\", len(result))\n",
      "C:\\Anaconda3\\Lib\\site-packages\\sklearn\\metrics\\_classification.py:1565: UndefinedMetricWarning: Precision is ill-defined and being set to 0.0 in labels with no predicted samples. Use `zero_division` parameter to control this behavior.\n",
      "  _warn_prf(average, modifier, f\"{metric.capitalize()} is\", len(result))\n",
      "C:\\Anaconda3\\Lib\\site-packages\\sklearn\\metrics\\_classification.py:1565: UndefinedMetricWarning: Precision is ill-defined and being set to 0.0 in labels with no predicted samples. Use `zero_division` parameter to control this behavior.\n",
      "  _warn_prf(average, modifier, f\"{metric.capitalize()} is\", len(result))\n",
      "C:\\Anaconda3\\Lib\\site-packages\\sklearn\\metrics\\_classification.py:1565: UndefinedMetricWarning: Precision is ill-defined and being set to 0.0 in labels with no predicted samples. Use `zero_division` parameter to control this behavior.\n",
      "  _warn_prf(average, modifier, f\"{metric.capitalize()} is\", len(result))\n"
     ]
    },
    {
     "name": "stdout",
     "output_type": "stream",
     "text": [
      "Selected features: ['age', 'sex', 'cp', 'trestbps', 'chol', 'thalach', 'exang', 'oldpeak', 'slope', 'ca']\n",
      "Selected features: ['age', 'sex', 'cp', 'trestbps', 'chol', 'restecg', 'thalach', 'exang', 'oldpeak', 'slope', 'ca']\n"
     ]
    },
    {
     "name": "stderr",
     "output_type": "stream",
     "text": [
      "C:\\Anaconda3\\Lib\\site-packages\\sklearn\\metrics\\_classification.py:1565: UndefinedMetricWarning: Precision is ill-defined and being set to 0.0 in labels with no predicted samples. Use `zero_division` parameter to control this behavior.\n",
      "  _warn_prf(average, modifier, f\"{metric.capitalize()} is\", len(result))\n",
      "C:\\Anaconda3\\Lib\\site-packages\\sklearn\\metrics\\_classification.py:1565: UndefinedMetricWarning: Precision is ill-defined and being set to 0.0 in labels with no predicted samples. Use `zero_division` parameter to control this behavior.\n",
      "  _warn_prf(average, modifier, f\"{metric.capitalize()} is\", len(result))\n",
      "C:\\Anaconda3\\Lib\\site-packages\\sklearn\\metrics\\_classification.py:1565: UndefinedMetricWarning: Precision is ill-defined and being set to 0.0 in labels with no predicted samples. Use `zero_division` parameter to control this behavior.\n",
      "  _warn_prf(average, modifier, f\"{metric.capitalize()} is\", len(result))\n"
     ]
    },
    {
     "name": "stdout",
     "output_type": "stream",
     "text": [
      "Selected features: ['age', 'sex', 'cp', 'trestbps', 'chol', 'restecg', 'thalach', 'exang', 'oldpeak', 'slope', 'ca', 'thal']\n"
     ]
    },
    {
     "name": "stderr",
     "output_type": "stream",
     "text": [
      "C:\\Anaconda3\\Lib\\site-packages\\sklearn\\metrics\\_classification.py:1565: UndefinedMetricWarning: Precision is ill-defined and being set to 0.0 in labels with no predicted samples. Use `zero_division` parameter to control this behavior.\n",
      "  _warn_prf(average, modifier, f\"{metric.capitalize()} is\", len(result))\n",
      "C:\\Anaconda3\\Lib\\site-packages\\sklearn\\metrics\\_classification.py:1565: UndefinedMetricWarning: Precision is ill-defined and being set to 0.0 in labels with no predicted samples. Use `zero_division` parameter to control this behavior.\n",
      "  _warn_prf(average, modifier, f\"{metric.capitalize()} is\", len(result))\n",
      "C:\\Anaconda3\\Lib\\site-packages\\sklearn\\metrics\\_classification.py:1565: UndefinedMetricWarning: Precision is ill-defined and being set to 0.0 in labels with no predicted samples. Use `zero_division` parameter to control this behavior.\n",
      "  _warn_prf(average, modifier, f\"{metric.capitalize()} is\", len(result))\n",
      "C:\\Anaconda3\\Lib\\site-packages\\sklearn\\metrics\\_classification.py:1565: UndefinedMetricWarning: Precision is ill-defined and being set to 0.0 in labels with no predicted samples. Use `zero_division` parameter to control this behavior.\n",
      "  _warn_prf(average, modifier, f\"{metric.capitalize()} is\", len(result))\n",
      "C:\\Anaconda3\\Lib\\site-packages\\sklearn\\metrics\\_classification.py:1565: UndefinedMetricWarning: Precision is ill-defined and being set to 0.0 in labels with no predicted samples. Use `zero_division` parameter to control this behavior.\n",
      "  _warn_prf(average, modifier, f\"{metric.capitalize()} is\", len(result))\n",
      "C:\\Anaconda3\\Lib\\site-packages\\sklearn\\metrics\\_classification.py:1565: UndefinedMetricWarning: Precision is ill-defined and being set to 0.0 in labels with no predicted samples. Use `zero_division` parameter to control this behavior.\n",
      "  _warn_prf(average, modifier, f\"{metric.capitalize()} is\", len(result))\n"
     ]
    }
   ],
   "source": [
    "acclog=[]\n",
    "accsvml=[]\n",
    "accsvmnl=[]\n",
    "accknn=[]\n",
    "accnav=[]\n",
    "accdes=[]\n",
    "accrf=[]\n",
    "for n in range(1,13):\n",
    "    selectk_features,selected_feature_names=selectkbest(indep_X,dep_Y,n)\n",
    "    X_train, X_test, y_train, y_test = train_test_split(selectk_features, dep_Y, test_size=0.25, random_state=0)\n",
    "    classifier,Accuracy,report,cm=logistic(X_train,y_train,X_test,y_test)\n",
    "    acclog.append(Accuracy)\n",
    "    \n",
    "    classifier,Accuracy,report,cm=svm_linear(X_train,y_train,X_test,y_test)  \n",
    "    accsvml.append(Accuracy)\n",
    "        \n",
    "    classifier,Accuracy,report,cm=svm_NL(X_train,y_train,X_test,y_test)  \n",
    "    accsvmnl.append(Accuracy)\n",
    "        \n",
    "    classifier,Accuracy,report,cm=knn(X_train,y_train,X_test,y_test)  \n",
    "    accknn.append(Accuracy)\n",
    "        \n",
    "    classifier,Accuracy,report,cm=Navie(X_train,y_train,X_test,y_test)  \n",
    "    accnav.append(Accuracy)\n",
    "        \n",
    "    classifier,Accuracy,report,cm=Decision(X_train,y_train,X_test,y_test)  \n",
    "    accdes.append(Accuracy)\n",
    "        \n",
    "    classifier,Accuracy,report,cm=random(X_train,y_train,X_test,y_test)  \n",
    "    accrf.append(Accuracy)"
   ]
  },
  {
   "cell_type": "code",
   "execution_count": 44,
   "id": "fe7c10e5-e62c-44b6-a566-b25d31bd08ed",
   "metadata": {},
   "outputs": [],
   "source": [
    "def selectk_Classification(acclog,accsvml,accsvmnl,accknn,accnav,accdes,accrf):\n",
    "    dataframe=pd.DataFrame(index=['n=1','n=2','n=3','n=4','n=5','n=6','n=7','n=8','n=9','n=10','n=11','n=12'],columns=['Logistic','SVMl','SVMnl','KNN','Navie','Decision','Random'])\n",
    "    for number,idex in enumerate(dataframe.index):\n",
    "        dataframe.loc[idex,'Logistic']=acclog[number]\n",
    "        dataframe.loc[idex,'SVMl']=accsvml[number]\n",
    "        dataframe.loc[idex,'SVMnl']=accsvmnl[number]\n",
    "        dataframe.loc[idex,'KNN']=accknn[number]\n",
    "        dataframe.loc[idex,'Navie']=accnav[number]\n",
    "        dataframe.loc[idex,'Decision']=accdes[number]\n",
    "        dataframe.loc[idex,'Random']=accrf[number]\n",
    "    return dataframe      "
   ]
  },
  {
   "cell_type": "code",
   "execution_count": 46,
   "id": "b6a15a16-83ef-46d3-b677-9b4e20d7c521",
   "metadata": {},
   "outputs": [
    {
     "data": {
      "text/html": [
       "<div>\n",
       "<style scoped>\n",
       "    .dataframe tbody tr th:only-of-type {\n",
       "        vertical-align: middle;\n",
       "    }\n",
       "\n",
       "    .dataframe tbody tr th {\n",
       "        vertical-align: top;\n",
       "    }\n",
       "\n",
       "    .dataframe thead th {\n",
       "        text-align: right;\n",
       "    }\n",
       "</style>\n",
       "<table border=\"1\" class=\"dataframe\">\n",
       "  <thead>\n",
       "    <tr style=\"text-align: right;\">\n",
       "      <th></th>\n",
       "      <th>Logistic</th>\n",
       "      <th>SVMl</th>\n",
       "      <th>SVMnl</th>\n",
       "      <th>KNN</th>\n",
       "      <th>Navie</th>\n",
       "      <th>Decision</th>\n",
       "      <th>Random</th>\n",
       "    </tr>\n",
       "  </thead>\n",
       "  <tbody>\n",
       "    <tr>\n",
       "      <th>n=1</th>\n",
       "      <td>0.782609</td>\n",
       "      <td>0.782609</td>\n",
       "      <td>0.76087</td>\n",
       "      <td>0.76087</td>\n",
       "      <td>0.782609</td>\n",
       "      <td>0.630435</td>\n",
       "      <td>0.673913</td>\n",
       "    </tr>\n",
       "    <tr>\n",
       "      <th>n=2</th>\n",
       "      <td>0.847826</td>\n",
       "      <td>0.804348</td>\n",
       "      <td>0.782609</td>\n",
       "      <td>0.782609</td>\n",
       "      <td>0.804348</td>\n",
       "      <td>0.717391</td>\n",
       "      <td>0.804348</td>\n",
       "    </tr>\n",
       "    <tr>\n",
       "      <th>n=3</th>\n",
       "      <td>0.847826</td>\n",
       "      <td>0.826087</td>\n",
       "      <td>0.782609</td>\n",
       "      <td>0.782609</td>\n",
       "      <td>0.847826</td>\n",
       "      <td>0.695652</td>\n",
       "      <td>0.717391</td>\n",
       "    </tr>\n",
       "    <tr>\n",
       "      <th>n=4</th>\n",
       "      <td>0.847826</td>\n",
       "      <td>0.804348</td>\n",
       "      <td>0.782609</td>\n",
       "      <td>0.782609</td>\n",
       "      <td>0.804348</td>\n",
       "      <td>0.76087</td>\n",
       "      <td>0.847826</td>\n",
       "    </tr>\n",
       "    <tr>\n",
       "      <th>n=5</th>\n",
       "      <td>0.891304</td>\n",
       "      <td>0.869565</td>\n",
       "      <td>0.782609</td>\n",
       "      <td>0.782609</td>\n",
       "      <td>0.869565</td>\n",
       "      <td>0.782609</td>\n",
       "      <td>0.782609</td>\n",
       "    </tr>\n",
       "    <tr>\n",
       "      <th>n=6</th>\n",
       "      <td>0.891304</td>\n",
       "      <td>0.891304</td>\n",
       "      <td>0.782609</td>\n",
       "      <td>0.782609</td>\n",
       "      <td>0.891304</td>\n",
       "      <td>0.76087</td>\n",
       "      <td>0.847826</td>\n",
       "    </tr>\n",
       "    <tr>\n",
       "      <th>n=7</th>\n",
       "      <td>0.891304</td>\n",
       "      <td>0.891304</td>\n",
       "      <td>0.782609</td>\n",
       "      <td>0.76087</td>\n",
       "      <td>0.913043</td>\n",
       "      <td>0.782609</td>\n",
       "      <td>0.847826</td>\n",
       "    </tr>\n",
       "    <tr>\n",
       "      <th>n=8</th>\n",
       "      <td>0.934783</td>\n",
       "      <td>0.913043</td>\n",
       "      <td>0.782609</td>\n",
       "      <td>0.76087</td>\n",
       "      <td>0.913043</td>\n",
       "      <td>0.826087</td>\n",
       "      <td>0.826087</td>\n",
       "    </tr>\n",
       "    <tr>\n",
       "      <th>n=9</th>\n",
       "      <td>0.913043</td>\n",
       "      <td>0.913043</td>\n",
       "      <td>0.782609</td>\n",
       "      <td>0.76087</td>\n",
       "      <td>0.913043</td>\n",
       "      <td>0.847826</td>\n",
       "      <td>0.826087</td>\n",
       "    </tr>\n",
       "    <tr>\n",
       "      <th>n=10</th>\n",
       "      <td>0.934783</td>\n",
       "      <td>0.913043</td>\n",
       "      <td>0.782609</td>\n",
       "      <td>0.73913</td>\n",
       "      <td>0.891304</td>\n",
       "      <td>0.847826</td>\n",
       "      <td>0.847826</td>\n",
       "    </tr>\n",
       "    <tr>\n",
       "      <th>n=11</th>\n",
       "      <td>0.934783</td>\n",
       "      <td>0.913043</td>\n",
       "      <td>0.782609</td>\n",
       "      <td>0.73913</td>\n",
       "      <td>0.891304</td>\n",
       "      <td>0.847826</td>\n",
       "      <td>0.847826</td>\n",
       "    </tr>\n",
       "    <tr>\n",
       "      <th>n=12</th>\n",
       "      <td>0.934783</td>\n",
       "      <td>0.891304</td>\n",
       "      <td>0.782609</td>\n",
       "      <td>0.73913</td>\n",
       "      <td>0.913043</td>\n",
       "      <td>0.826087</td>\n",
       "      <td>0.869565</td>\n",
       "    </tr>\n",
       "  </tbody>\n",
       "</table>\n",
       "</div>"
      ],
      "text/plain": [
       "      Logistic      SVMl     SVMnl       KNN     Navie  Decision    Random\n",
       "n=1   0.782609  0.782609   0.76087   0.76087  0.782609  0.630435  0.673913\n",
       "n=2   0.847826  0.804348  0.782609  0.782609  0.804348  0.717391  0.804348\n",
       "n=3   0.847826  0.826087  0.782609  0.782609  0.847826  0.695652  0.717391\n",
       "n=4   0.847826  0.804348  0.782609  0.782609  0.804348   0.76087  0.847826\n",
       "n=5   0.891304  0.869565  0.782609  0.782609  0.869565  0.782609  0.782609\n",
       "n=6   0.891304  0.891304  0.782609  0.782609  0.891304   0.76087  0.847826\n",
       "n=7   0.891304  0.891304  0.782609   0.76087  0.913043  0.782609  0.847826\n",
       "n=8   0.934783  0.913043  0.782609   0.76087  0.913043  0.826087  0.826087\n",
       "n=9   0.913043  0.913043  0.782609   0.76087  0.913043  0.847826  0.826087\n",
       "n=10  0.934783  0.913043  0.782609   0.73913  0.891304  0.847826  0.847826\n",
       "n=11  0.934783  0.913043  0.782609   0.73913  0.891304  0.847826  0.847826\n",
       "n=12  0.934783  0.891304  0.782609   0.73913  0.913043  0.826087  0.869565"
      ]
     },
     "execution_count": 46,
     "metadata": {},
     "output_type": "execute_result"
    }
   ],
   "source": [
    "result=selectk_Classification(acclog,accsvml,accsvmnl,accknn,accnav,accdes,accrf)\n",
    "result"
   ]
  },
  {
   "cell_type": "code",
   "execution_count": null,
   "id": "97b7ccda-eccd-4264-9f39-4a62204ef647",
   "metadata": {},
   "outputs": [],
   "source": []
  },
  {
   "cell_type": "code",
   "execution_count": null,
   "id": "c216f70b-f71d-4ff7-becd-d13e8b3fc5cc",
   "metadata": {},
   "outputs": [],
   "source": []
  }
 ],
 "metadata": {
  "kernelspec": {
   "display_name": "Python [conda env:base] *",
   "language": "python",
   "name": "conda-base-py"
  },
  "language_info": {
   "codemirror_mode": {
    "name": "ipython",
    "version": 3
   },
   "file_extension": ".py",
   "mimetype": "text/x-python",
   "name": "python",
   "nbconvert_exporter": "python",
   "pygments_lexer": "ipython3",
   "version": "3.12.9"
  }
 },
 "nbformat": 4,
 "nbformat_minor": 5
}
